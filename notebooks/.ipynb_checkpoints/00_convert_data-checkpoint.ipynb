{
 "cells": [
  {
   "cell_type": "markdown",
   "id": "50b9292a-3229-4272-ac16-0415230780c8",
   "metadata": {},
   "source": [
    "Convert rds files from R to python"
   ]
  },
  {
   "cell_type": "code",
   "execution_count": 1,
   "id": "9cba5746-62dc-4c92-ba58-24d0a86c3820",
   "metadata": {},
   "outputs": [],
   "source": [
    "suppressMessages({\n",
    "    library(Seurat, quietly = T)\n",
    "    library(SeuratDisk, quietly = T)\n",
    "})"
   ]
  },
  {
   "cell_type": "markdown",
   "id": "d5cbcaeb-26ba-4b1d-a2d2-a1f35a6242dd",
   "metadata": {},
   "source": [
    "Specify directories:"
   ]
  },
  {
   "cell_type": "code",
   "execution_count": 2,
   "id": "06615522-8a4d-4ef5-99bf-214dbfc6d517",
   "metadata": {},
   "outputs": [],
   "source": [
    "data_path = '/nobackup/users/hmbaghda/scLEMBAS/analysis'"
   ]
  },
  {
   "cell_type": "code",
   "execution_count": 3,
   "id": "8bc83c61-c3ac-41c9-8418-e8a643f967f3",
   "metadata": {},
   "outputs": [],
   "source": [
    "directory_names <- c(#data_path, \n",
    "                     #file.path(data_path, 'raw'), file.path(data_path, 'raw', 'immune_dictionary'), \n",
    "                     file.path(data_path, 'interim'), file.path(data_path, 'interim', 'immune_dictionary_h5ad'),\n",
    "                     file.path(data_path, 'processed'), file.path(data_path, 'figures'))\n",
    "\n",
    "for (directory_name in directory_names){\n",
    "    if (!file.exists(directory_name)) {\n",
    "      dir.create(directory_name)\n",
    "    }\n",
    "}"
   ]
  },
  {
   "cell_type": "markdown",
   "id": "e352eaf6-ad52-490a-8045-ad7fb24fb1f2",
   "metadata": {},
   "source": [
    "Convert from Seurat to Anndata:"
   ]
  },
  {
   "cell_type": "code",
   "execution_count": 4,
   "id": "c1d5b32c-0258-4c32-b267-22dd3b228eed",
   "metadata": {},
   "outputs": [],
   "source": [
    "seurat_to_h5ad <- function(file_name, from_path, dest_path, rm_h5seurat = TRUE){\n",
    "    suppressMessages({\n",
    "        suppressWarnings({\n",
    "            so<-readRDS(file.path(from_path, file_name))\n",
    "            so<-UpdateSeuratObject(so)\n",
    "\n",
    "            # remove scale.data assay slot\n",
    "            # otherwise, SeuratDisk will only store scaled and log-normalized data, and not raw data\n",
    "            n_genes <- nrow(so[[\"RNA\"]]@data)\n",
    "            empty_matrix <- matrix(numeric(0), nrow = n_genes, ncol = 0)\n",
    "            so[[\"RNA\"]]@scale.data <- empty_matrix\n",
    "            \n",
    "            so@assays$RNA[['scale.data']]<-NULL \n",
    "            fn<-file.path(dest_path, sub(\"\\\\.RDS$\", \".h5Seurat\", file_name)) # a file name (no path) that ends with .RDS\n",
    "            SeuratDisk::SaveH5Seurat(so, filename = fn)\n",
    "            SeuratDisk::Convert(fn, dest = \"h5ad\", assay = 'RNA')\n",
    "            if (rm_h5seurat){\n",
    "                na = file.remove(fn)\n",
    "            }\n",
    "        })\n",
    "    })\n",
    "}"
   ]
  },
  {
   "cell_type": "code",
   "execution_count": 5,
   "id": "1ce51965-77c2-444a-b517-711e079cc3c1",
   "metadata": {},
   "outputs": [],
   "source": [
    "from_path<-file.path(data_path, 'raw/immune_dictionary/')\n",
    "dest_path<-file.path(data_path, 'interim', 'immune_dictionary_h5ad')\n",
    "file_names<-list.files(path = from_path, pattern = \"\\\\.RDS$\", recursive = TRUE)\n",
    "for (file_name in file_names){\n",
    "    if (!(file.exists(file.path(dest_path, sub(\"\\\\.RDS$\", \".h5ad\", file_name))))){\n",
    "        seurat_to_h5ad(file_name, from_path, dest_path)\n",
    "    }\n",
    "}"
   ]
  }
 ],
 "metadata": {
  "kernelspec": {
   "display_name": "R [conda env:tb_bryan]",
   "language": "R",
   "name": "conda-env-tb_bryan-r"
  },
  "language_info": {
   "codemirror_mode": "r",
   "file_extension": ".r",
   "mimetype": "text/x-r-source",
   "name": "R",
   "pygments_lexer": "r",
   "version": "4.3.2"
  }
 },
 "nbformat": 4,
 "nbformat_minor": 5
}
