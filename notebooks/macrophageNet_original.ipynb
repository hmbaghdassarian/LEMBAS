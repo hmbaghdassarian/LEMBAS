{
 "cells": [
  {
   "cell_type": "code",
   "execution_count": 1,
   "id": "2ec66f20-1d7c-452b-a0b5-f19773adb5d7",
   "metadata": {},
   "outputs": [
    {
     "name": "stderr",
     "output_type": "stream",
     "text": [
      "/tmp/ipykernel_3888974/2087583622.py:4: DeprecationWarning: \n",
      "Pyarrow will become a required dependency of pandas in the next major release of pandas (pandas 3.0),\n",
      "(to allow more performant data types, such as the Arrow string type, and better interoperability with other libraries)\n",
      "but was not found to be installed on your system.\n",
      "If this would cause problems for you,\n",
      "please provide us feedback at https://github.com/pandas-dev/pandas/issues/54466\n",
      "        \n",
      "  import pandas\n"
     ]
    }
   ],
   "source": [
    "import torch\n",
    "import numpy\n",
    "import matplotlib.pyplot as plt\n",
    "import pandas\n",
    "\n",
    "\n",
    "#import saveSimulations\n",
    "\n",
    "inputAmplitude = 3\n",
    "projectionAmplitude = 1.2\n",
    "\n",
    "#Setup optimizer\n",
    "batchSize = 10\n",
    "MoAFactor = 0.1\n",
    "spectralFactor = 1e-5\n",
    "maxIter = 5000\n",
    "noiseLevel = 10\n",
    "stateLossFactor = 1e-4\n",
    "L2 = 1e-6\n",
    "lr = 2e-3\n",
    "\n",
    "seed = 888\n",
    "torch.manual_seed(seed)\n",
    "torch.cuda.manual_seed(seed)\n",
    "device = 'cpu'#torch.device(\"cuda:0\" if torch.cuda.is_available() else \"cpu\")"
   ]
  },
  {
   "cell_type": "code",
   "execution_count": 2,
   "id": "023dffc1-1864-420c-bc62-b5063f9c0367",
   "metadata": {},
   "outputs": [],
   "source": [
    "import importlib.util\n",
    "import sys\n",
    "import os\n",
    "lembas_path = '/nobackup/users/hmbaghda/Software/avlant_LEMBASGPU'\n",
    "\n",
    "def import_from_path(name, path):\n",
    "    spec = importlib.util.spec_from_file_location(name, path)\n",
    "    module = importlib.util.module_from_spec(spec)\n",
    "    sys.modules[name] = module\n",
    "    spec.loader.exec_module(module)\n",
    "    return module\n",
    "\n",
    "bionetwork = import_from_path('bionetwork', os.path.join(lembas_path, 'bionetwork.py'))\n",
    "plotting = import_from_path('plotting', os.path.join(lembas_path, 'plotting.py'))"
   ]
  },
  {
   "cell_type": "code",
   "execution_count": 3,
   "id": "005462f3-24ad-4112-8742-e9f6c0d48719",
   "metadata": {},
   "outputs": [],
   "source": [
    "#Load network\n",
    "networkList, nodeNames, modeOfAction = bionetwork.loadNetwork(os.path.join(lembas_path, 'data', 'macrophage-Model.tsv'))\n",
    "annotation = pandas.read_csv(os.path.join(lembas_path, 'data', 'macrophage-Annotation.tsv'), sep='\\t')\n",
    "uniprot2gene = dict(zip(annotation['code'], annotation['name']))\n",
    "bionetParams = bionetwork.trainingParameters(targetSteps = 100, maxSteps = 150, expFactor= 50, tolerance = 1e-5, leak=0.01)\n",
    "\n",
    "inName = annotation.loc[annotation['ligand'],'code'].values\n",
    "outName = annotation.loc[annotation['TF'],'code'].values\n",
    "inName = numpy.intersect1d(nodeNames, inName)\n",
    "outName = numpy.intersect1d(nodeNames, outName)\n",
    "outNameGene = [uniprot2gene[x] for x in outName]\n",
    "nodeNameGene = [uniprot2gene[x] for x in nodeNames]\n",
    "\n",
    "ligandInput = pandas.read_csv(os.path.join(lembas_path, 'data', 'macrophage-Ligands.tsv'), sep='\\t', low_memory=False, index_col=0)\n",
    "TFOutput = pandas.read_csv(os.path.join(lembas_path, 'data', 'macrophage-TFs.tsv'), sep='\\t', low_memory=False, index_col=0)\n",
    "\n",
    "#Subset input and output to intersecting nodes\n",
    "inName = ligandInput.columns.values\n",
    "outName = TFOutput.columns.values\n",
    "\n",
    "# doesnt change anything\n",
    "inName = numpy.intersect1d(nodeNames, inName)\n",
    "outName = numpy.intersect1d(nodeNames, outName)\n",
    "\n",
    "# map from uniprot ID to gene name \n",
    "inNameGene = [uniprot2gene[x] for x in inName]\n",
    "outNameGene = [uniprot2gene[x] for x in outName]\n",
    "\n",
    "# c\n",
    "ligandInput = ligandInput.loc[:,inName] # conditions x ligand (values are binary of presence or absence)\n",
    "TFOutput = TFOutput.loc[:,outName] # conditions x TFs (values are TF activity score)\n",
    "sampleName = ligandInput.index.values\n"
   ]
  },
  {
   "cell_type": "code",
   "execution_count": 4,
   "id": "6c9efe11-58f8-4f6e-8e86-edab2ce39d84",
   "metadata": {},
   "outputs": [],
   "source": [
    "model = bionetwork.model(networkList, nodeNames, modeOfAction, inputAmplitude, projectionAmplitude, inName, outName, bionetParams, 'MML')\n"
   ]
  },
  {
   "cell_type": "markdown",
   "id": "be50c81e-4ada-42e3-aa59-706c23d9d62f",
   "metadata": {},
   "source": [
    "# Start Test"
   ]
  },
  {
   "cell_type": "code",
   "execution_count": 5,
   "id": "c235bd3d-d98a-4dd6-aaa5-98fd2317be52",
   "metadata": {},
   "outputs": [],
   "source": [
    "model.to(device)\n",
    "X = torch.tensor(ligandInput.values.copy(), dtype=torch.float32)\n",
    "Y = torch.tensor(TFOutput.values, dtype=torch.float32)\n",
    "X = X.to(device)\n",
    "Y = Y.to(device)\n",
    "\n",
    "# # a forward pass\n",
    "# fullX = model.inputLayer(X)\n",
    "# fullY = model.network(fullX)\n",
    "# Yhat = model.projectionLayer(fullY)"
   ]
  },
  {
   "cell_type": "code",
   "execution_count": 7,
   "id": "57a32e45-ab96-4a1c-a661-8a0b91af9a19",
   "metadata": {},
   "outputs": [
    {
     "data": {
      "text/plain": [
       "torch.Size([23, 58])"
      ]
     },
     "execution_count": 7,
     "metadata": {},
     "output_type": "execute_result"
    }
   ],
   "source": [
    "Yhat.shape"
   ]
  },
  {
   "cell_type": "code",
   "execution_count": null,
   "id": "e15bc4bb-ce10-48a9-a556-1b88dc075222",
   "metadata": {},
   "outputs": [],
   "source": []
  },
  {
   "cell_type": "code",
   "execution_count": null,
   "id": "ca9c3b23-038b-49e3-af98-fad5e746366a",
   "metadata": {},
   "outputs": [],
   "source": []
  },
  {
   "cell_type": "markdown",
   "id": "fd72f1d0-1745-47ce-ad7c-283033fb2148",
   "metadata": {},
   "source": [
    "# End Test"
   ]
  },
  {
   "cell_type": "code",
   "execution_count": 17,
   "id": "ec49f318-0208-475d-8a04-0433214c6a73",
   "metadata": {},
   "outputs": [],
   "source": [
    "model.inputLayer.weights.requires_grad = False\n",
    "model.network.preScaleWeights()\n",
    "model.setDevice(device)\n",
    "model = model.to(device)\n",
    "\n",
    "spectralCapacity = model.network.param['spectralTarget']\n",
    "\n",
    "X = torch.tensor(ligandInput.values.copy(), dtype=torch.float32)\n",
    "Y = torch.tensor(TFOutput.values, dtype=torch.float32)\n",
    "X = X.to(device)\n",
    "Y = Y.to(device)\n",
    "\n",
    "#%%\n",
    "criterion = torch.nn.MSELoss(reduction='mean')\n",
    "\n",
    "optimizer = torch.optim.Adam(model.parameters(), lr=1, weight_decay=0)\n",
    "resetState = optimizer.state.copy()\n",
    "\n",
    "mLoss = criterion(torch.mean(Y, dim=0) * torch.ones(Y.shape, device = Y.device), Y)\n",
    "print(mLoss)\n",
    "\n",
    "\n",
    "stats = plotting.initProgressObject(maxIter)\n",
    "N = X.shape[0]"
   ]
  },
  {
   "cell_type": "markdown",
   "id": "eee7c14b-f08c-4a32-9b15-bdc0f3bba23a",
   "metadata": {},
   "source": [
    "# test"
   ]
  },
  {
   "cell_type": "code",
   "execution_count": 18,
   "id": "bad4636a-0055-4d42-b559-e38d0193d240",
   "metadata": {},
   "outputs": [],
   "source": [
    "e = 0"
   ]
  },
  {
   "cell_type": "code",
   "execution_count": 19,
   "id": "90198cc3-473d-4df3-ae32-f43bad9fe486",
   "metadata": {},
   "outputs": [],
   "source": [
    "curLr = bionetwork.oneCycle(e, maxIter, maxHeight = lr, startHeight=lr/10, endHeight=1e-6, peak = 1000)\n",
    "\n",
    "optimizer.param_groups[0]['lr'] = curLr\n",
    "\n",
    "curLoss = []\n",
    "curEig = []\n",
    "\n",
    "np.random.seed(seed + e)\n",
    "trainloader = numpy.array_split(numpy.random.permutation(N), numpy.ceil(N/batchSize).astype(int))"
   ]
  },
  {
   "cell_type": "code",
   "execution_count": 20,
   "id": "c3f37d16-c185-44d7-8075-e043aa269d3d",
   "metadata": {},
   "outputs": [
    {
     "data": {
      "text/plain": [
       "0.0002"
      ]
     },
     "execution_count": 20,
     "metadata": {},
     "output_type": "execute_result"
    }
   ],
   "source": [
    "optimizer.param_groups[0]['lr'] = curLr"
   ]
  },
  {
   "cell_type": "code",
   "execution_count": 23,
   "id": "0b164c1c-2e88-471f-bae7-77df43738cb1",
   "metadata": {},
   "outputs": [
    {
     "data": {
      "text/plain": [
       "[{'params': [Parameter containing:\n",
       "   tensor([3., 3., 3., 3., 3., 3., 3., 3., 3., 3., 3., 3.]),\n",
       "   Parameter containing:\n",
       "   tensor([[0., 0., 0.,  ..., 0., 0., 0.],\n",
       "           [0., 0., 0.,  ..., 0., 0., 0.],\n",
       "           [0., 0., 0.,  ..., 0., 0., 0.],\n",
       "           ...,\n",
       "           [0., 0., 0.,  ..., 0., 0., 0.],\n",
       "           [0., 0., 0.,  ..., 0., 0., 0.],\n",
       "           [0., 0., 0.,  ..., 0., 0., 0.]], requires_grad=True),\n",
       "   Parameter containing:\n",
       "   tensor([[0.0010],\n",
       "           [0.0010],\n",
       "           [0.0010],\n",
       "           ...,\n",
       "           [0.0010],\n",
       "           [0.0010],\n",
       "           [0.0010]], requires_grad=True),\n",
       "   Parameter containing:\n",
       "   tensor([1.2000, 1.2000, 1.2000, 1.2000, 1.2000, 1.2000, 1.2000, 1.2000, 1.2000,\n",
       "           1.2000, 1.2000, 1.2000, 1.2000, 1.2000, 1.2000, 1.2000, 1.2000, 1.2000,\n",
       "           1.2000, 1.2000, 1.2000, 1.2000, 1.2000, 1.2000, 1.2000, 1.2000, 1.2000,\n",
       "           1.2000, 1.2000, 1.2000, 1.2000, 1.2000, 1.2000, 1.2000, 1.2000, 1.2000,\n",
       "           1.2000, 1.2000, 1.2000, 1.2000, 1.2000, 1.2000, 1.2000, 1.2000, 1.2000,\n",
       "           1.2000, 1.2000, 1.2000, 1.2000, 1.2000, 1.2000, 1.2000, 1.2000, 1.2000,\n",
       "           1.2000, 1.2000, 1.2000, 1.2000], requires_grad=True)],\n",
       "  'lr': 1,\n",
       "  'betas': (0.9, 0.999),\n",
       "  'eps': 1e-08,\n",
       "  'weight_decay': 0,\n",
       "  'amsgrad': False,\n",
       "  'maximize': False,\n",
       "  'foreach': None,\n",
       "  'capturable': False,\n",
       "  'differentiable': False,\n",
       "  'fused': None}]"
      ]
     },
     "execution_count": 23,
     "metadata": {},
     "output_type": "execute_result"
    }
   ],
   "source": [
    "optimizer.param_groups"
   ]
  },
  {
   "cell_type": "code",
   "execution_count": null,
   "id": "e78dbf8c-8def-43ee-beec-708c738ead42",
   "metadata": {},
   "outputs": [],
   "source": []
  }
 ],
 "metadata": {
  "kernelspec": {
   "display_name": "Python [conda env:scLEMBAS]",
   "language": "python",
   "name": "conda-env-scLEMBAS-py"
  },
  "language_info": {
   "codemirror_mode": {
    "name": "ipython",
    "version": 3
   },
   "file_extension": ".py",
   "mimetype": "text/x-python",
   "name": "python",
   "nbconvert_exporter": "python",
   "pygments_lexer": "ipython3",
   "version": "3.11.7"
  }
 },
 "nbformat": 4,
 "nbformat_minor": 5
}
