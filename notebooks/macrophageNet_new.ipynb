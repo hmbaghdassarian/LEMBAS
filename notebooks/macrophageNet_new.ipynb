{
 "cells": [
  {
   "cell_type": "markdown",
   "id": "05080d94-f8a1-4508-9947-5589e7528788",
   "metadata": {},
   "source": [
    "Next, we want to see whether scLEMBAS can capture the heterogeneity of cell responses upon ligand exposure. "
   ]
  },
  {
   "cell_type": "code",
   "execution_count": 86,
   "id": "5d9f03ee-bd2b-4640-9ba8-b08b6ebd2a75",
   "metadata": {},
   "outputs": [
    {
     "name": "stderr",
     "output_type": "stream",
     "text": [
      "/tmp/ipykernel_3830460/1969642366.py:4: DeprecationWarning: \n",
      "Pyarrow will become a required dependency of pandas in the next major release of pandas (pandas 3.0),\n",
      "(to allow more performant data types, such as the Arrow string type, and better interoperability with other libraries)\n",
      "but was not found to be installed on your system.\n",
      "If this would cause problems for you,\n",
      "please provide us feedback at https://github.com/pandas-dev/pandas/issues/54466\n",
      "        \n",
      "  import pandas as pd\n"
     ]
    }
   ],
   "source": [
    "import os\n",
    "\n",
    "import numpy as np\n",
    "import pandas as pd\n",
    "\n",
    "import scanpy as sc\n",
    "from sklearn.neighbors import NearestCentroid\n",
    "from scipy.spatial.distance import cdist, pdist, squareform\n",
    "\n",
    "import torch\n",
    "\n",
    "import matplotlib.pyplot as plt\n",
    "\n",
    "import sys\n",
    "# lembas_path = '/nobackup/users/hmbaghda/Software/LEMBAS'\n",
    "lembas_path = '/nobackup/users/hmbaghda/Software/avlant_LEMBASGPU'\n",
    "\n",
    "sclembas_path = '/home/hmbaghda/Projects/scLEMBAS/scLEMBAS'\n",
    "sys.path.insert(1, os.path.join(sclembas_path))\n",
    "from model.bionetwork import format_network, SignalingModel"
   ]
  },
  {
   "cell_type": "code",
   "execution_count": 87,
   "id": "c4fe91c3-d339-4f51-a0a1-f2f584837299",
   "metadata": {},
   "outputs": [],
   "source": [
    "n_cores = 12\n",
    "os.environ[\"OMP_NUM_THREADS\"] = str(n_cores)\n",
    "os.environ[\"MKL_NUM_THREADS\"] = str(n_cores)\n",
    "os.environ[\"OPENBLAS_NUM_THREADS\"] = str(n_cores)\n",
    "os.environ[\"VECLIB_MAXIMUM_THREADS\"] = str(n_cores)\n",
    "os.environ[\"NUMEXPR_NUM_THREADS\"] = str(n_cores)\n",
    "\n",
    "seed = 888\n",
    "data_path = '/nobackup/users/hmbaghda/scLEMBAS/analysis'\n",
    "\n",
    "device = \"cuda\" if torch.cuda.is_available() else \"cpu\""
   ]
  },
  {
   "cell_type": "markdown",
   "id": "1e0116b0-4d14-4e23-955f-dc16fd11d0c7",
   "metadata": {},
   "source": [
    "# Model here"
   ]
  },
  {
   "cell_type": "markdown",
   "id": "16d02500-42cd-423e-ae2d-8cc35e6eb8da",
   "metadata": {},
   "source": [
    "Load Data:"
   ]
  },
  {
   "cell_type": "code",
   "execution_count": 88,
   "id": "222d00aa-262a-4e9e-bb86-9026574b6c75",
   "metadata": {},
   "outputs": [],
   "source": [
    "# prior knowledge signaling network\n",
    "net = pd.read_csv(os.path.join(lembas_path, 'data', 'macrophage-Model.tsv'), sep = '\\t', index_col = False)\n",
    "\n",
    "# ligand input and TF output\n",
    "ligand_input = pd.read_csv(os.path.join(lembas_path, 'data', 'macrophage-Ligands.tsv'), sep='\\t', low_memory=False, index_col=0)\n",
    "tf_output = pd.read_csv(os.path.join(lembas_path, 'data', 'macrophage-TFs.tsv'), sep='\\t', low_memory=False, index_col=0)"
   ]
  },
  {
   "cell_type": "markdown",
   "id": "2ff8c983-b4b6-4e3e-877b-6d279e738891",
   "metadata": {},
   "source": [
    "Let's see what the signaling network looks like:"
   ]
  },
  {
   "cell_type": "code",
   "execution_count": 89,
   "id": "c9d88540-c26d-46ff-a98b-18019eee8cde",
   "metadata": {},
   "outputs": [
    {
     "data": {
      "text/html": [
       "<div>\n",
       "<style scoped>\n",
       "    .dataframe tbody tr th:only-of-type {\n",
       "        vertical-align: middle;\n",
       "    }\n",
       "\n",
       "    .dataframe tbody tr th {\n",
       "        vertical-align: top;\n",
       "    }\n",
       "\n",
       "    .dataframe thead th {\n",
       "        text-align: right;\n",
       "    }\n",
       "</style>\n",
       "<table border=\"1\" class=\"dataframe\">\n",
       "  <thead>\n",
       "    <tr style=\"text-align: right;\">\n",
       "      <th></th>\n",
       "      <th>source</th>\n",
       "      <th>target</th>\n",
       "      <th>stimulation</th>\n",
       "      <th>inhibition</th>\n",
       "    </tr>\n",
       "  </thead>\n",
       "  <tbody>\n",
       "    <tr>\n",
       "      <th>0</th>\n",
       "      <td>P49137</td>\n",
       "      <td>Q16539</td>\n",
       "      <td>0</td>\n",
       "      <td>0</td>\n",
       "    </tr>\n",
       "    <tr>\n",
       "      <th>1</th>\n",
       "      <td>Q16539</td>\n",
       "      <td>P49137</td>\n",
       "      <td>1</td>\n",
       "      <td>0</td>\n",
       "    </tr>\n",
       "    <tr>\n",
       "      <th>2</th>\n",
       "      <td>P31749</td>\n",
       "      <td>O15111</td>\n",
       "      <td>1</td>\n",
       "      <td>0</td>\n",
       "    </tr>\n",
       "    <tr>\n",
       "      <th>3</th>\n",
       "      <td>O15111</td>\n",
       "      <td>P19838</td>\n",
       "      <td>1</td>\n",
       "      <td>0</td>\n",
       "    </tr>\n",
       "    <tr>\n",
       "      <th>4</th>\n",
       "      <td>P19838</td>\n",
       "      <td>O15111</td>\n",
       "      <td>0</td>\n",
       "      <td>0</td>\n",
       "    </tr>\n",
       "  </tbody>\n",
       "</table>\n",
       "</div>"
      ],
      "text/plain": [
       "   source  target  stimulation  inhibition\n",
       "0  P49137  Q16539            0           0\n",
       "1  Q16539  P49137            1           0\n",
       "2  P31749  O15111            1           0\n",
       "3  O15111  P19838            1           0\n",
       "4  P19838  O15111            0           0"
      ]
     },
     "execution_count": 89,
     "metadata": {},
     "output_type": "execute_result"
    }
   ],
   "source": [
    "stimulation_label = 'stimulation'\n",
    "inhibition_label = 'inhibition'\n",
    "weight_label = 'mode_of_action'\n",
    "source_label = 'source'\n",
    "target_label = 'target'\n",
    "\n",
    "net[[source_label, target_label, stimulation_label, inhibition_label]].head()"
   ]
  },
  {
   "cell_type": "markdown",
   "id": "0d266081-823d-4805-8664-35472ade9440",
   "metadata": {},
   "source": [
    "Let's format it to fit with the necessary inputs to the SignalingModel:"
   ]
  },
  {
   "cell_type": "code",
   "execution_count": 90,
   "id": "2afcb95a-8583-42ad-b12c-c9352bebf2ae",
   "metadata": {},
   "outputs": [
    {
     "data": {
      "text/html": [
       "<div>\n",
       "<style scoped>\n",
       "    .dataframe tbody tr th:only-of-type {\n",
       "        vertical-align: middle;\n",
       "    }\n",
       "\n",
       "    .dataframe tbody tr th {\n",
       "        vertical-align: top;\n",
       "    }\n",
       "\n",
       "    .dataframe thead th {\n",
       "        text-align: right;\n",
       "    }\n",
       "</style>\n",
       "<table border=\"1\" class=\"dataframe\">\n",
       "  <thead>\n",
       "    <tr style=\"text-align: right;\">\n",
       "      <th></th>\n",
       "      <th>source</th>\n",
       "      <th>target</th>\n",
       "      <th>mode_of_action</th>\n",
       "      <th>stimulation</th>\n",
       "      <th>inhibition</th>\n",
       "    </tr>\n",
       "  </thead>\n",
       "  <tbody>\n",
       "    <tr>\n",
       "      <th>0</th>\n",
       "      <td>P49137</td>\n",
       "      <td>Q16539</td>\n",
       "      <td>0.1</td>\n",
       "      <td>0</td>\n",
       "      <td>0</td>\n",
       "    </tr>\n",
       "    <tr>\n",
       "      <th>1</th>\n",
       "      <td>Q16539</td>\n",
       "      <td>P49137</td>\n",
       "      <td>1.0</td>\n",
       "      <td>1</td>\n",
       "      <td>0</td>\n",
       "    </tr>\n",
       "    <tr>\n",
       "      <th>2</th>\n",
       "      <td>P31749</td>\n",
       "      <td>O15111</td>\n",
       "      <td>1.0</td>\n",
       "      <td>1</td>\n",
       "      <td>0</td>\n",
       "    </tr>\n",
       "    <tr>\n",
       "      <th>3</th>\n",
       "      <td>O15111</td>\n",
       "      <td>P19838</td>\n",
       "      <td>1.0</td>\n",
       "      <td>1</td>\n",
       "      <td>0</td>\n",
       "    </tr>\n",
       "    <tr>\n",
       "      <th>4</th>\n",
       "      <td>P19838</td>\n",
       "      <td>O15111</td>\n",
       "      <td>0.1</td>\n",
       "      <td>0</td>\n",
       "      <td>0</td>\n",
       "    </tr>\n",
       "  </tbody>\n",
       "</table>\n",
       "</div>"
      ],
      "text/plain": [
       "   source  target  mode_of_action  stimulation  inhibition\n",
       "0  P49137  Q16539             0.1            0           0\n",
       "1  Q16539  P49137             1.0            1           0\n",
       "2  P31749  O15111             1.0            1           0\n",
       "3  O15111  P19838             1.0            1           0\n",
       "4  P19838  O15111             0.1            0           0"
      ]
     },
     "execution_count": 90,
     "metadata": {},
     "output_type": "execute_result"
    }
   ],
   "source": [
    "net = format_network(net, weight_label = weight_label, stimulation_label = stimulation_label, inhibition_label = inhibition_label)\n",
    "net[[source_label, target_label, weight_label, stimulation_label, inhibition_label]].head()"
   ]
  },
  {
   "cell_type": "markdown",
   "id": "c5a9a8b4-9ac1-4a01-a1f3-c67080c6ad66",
   "metadata": {},
   "source": [
    "Next, let's initialize the model and format the inputs/outputs for running the model:"
   ]
  },
  {
   "cell_type": "code",
   "execution_count": 91,
   "id": "e240b77a-2411-4732-9ef4-800e3af1a1ec",
   "metadata": {},
   "outputs": [],
   "source": [
    "training_parameters = {'targetSteps': 100, 'maxSteps': 150, 'expFactor':50, 'tolerance': 1e-5, 'leak':1e-2}\n",
    "mod = SignalingModel(net = net,\n",
    "                     X_in = ligand_input,\n",
    "                     y_out = tf_output, \n",
    "                     projection_amplitude = 3, projection_factor = 1.2,\n",
    "                     weight_label = weight_label, source_label = source_label, target_label = target_label,\n",
    "                     bionet_params = training_parameters, dtype = torch.float32, \n",
    "                     device = device)\n",
    "\n",
    "X_in = mod.df_to_tensor(mod.X_in)\n",
    "y_out = mod.df_to_tensor(mod.y_out)"
   ]
  },
  {
   "cell_type": "markdown",
   "id": "80c01a8c-9340-49cd-b524-c662e3e941b3",
   "metadata": {},
   "source": [
    "The ligand input, after filtering for nodes in the network, looks like this:"
   ]
  },
  {
   "cell_type": "code",
   "execution_count": 92,
   "id": "1e12afc1-ddc0-46c4-a0ec-cc2e7e8bcc6c",
   "metadata": {},
   "outputs": [
    {
     "data": {
      "text/html": [
       "<div>\n",
       "<style scoped>\n",
       "    .dataframe tbody tr th:only-of-type {\n",
       "        vertical-align: middle;\n",
       "    }\n",
       "\n",
       "    .dataframe tbody tr th {\n",
       "        vertical-align: top;\n",
       "    }\n",
       "\n",
       "    .dataframe thead th {\n",
       "        text-align: right;\n",
       "    }\n",
       "</style>\n",
       "<table border=\"1\" class=\"dataframe\">\n",
       "  <thead>\n",
       "    <tr style=\"text-align: right;\">\n",
       "      <th></th>\n",
       "      <th>Ligand_GC</th>\n",
       "      <th>Ligand_IC</th>\n",
       "      <th>Ligand_IFNb</th>\n",
       "      <th>Ligand_IFNg</th>\n",
       "      <th>Ligand_IL10</th>\n",
       "      <th>Ligand_IL13</th>\n",
       "      <th>Ligand_IL4</th>\n",
       "      <th>Ligand_LPSc</th>\n",
       "      <th>Ligand_P3C</th>\n",
       "      <th>Ligand_PGE2</th>\n",
       "      <th>Ligand_TNFa</th>\n",
       "      <th>Ligand_upLPS</th>\n",
       "    </tr>\n",
       "  </thead>\n",
       "  <tbody>\n",
       "    <tr>\n",
       "      <th>CON</th>\n",
       "      <td>0</td>\n",
       "      <td>0</td>\n",
       "      <td>0</td>\n",
       "      <td>0</td>\n",
       "      <td>0</td>\n",
       "      <td>0</td>\n",
       "      <td>0</td>\n",
       "      <td>0</td>\n",
       "      <td>0</td>\n",
       "      <td>0</td>\n",
       "      <td>0</td>\n",
       "      <td>0</td>\n",
       "    </tr>\n",
       "    <tr>\n",
       "      <th>GC</th>\n",
       "      <td>1</td>\n",
       "      <td>0</td>\n",
       "      <td>0</td>\n",
       "      <td>0</td>\n",
       "      <td>0</td>\n",
       "      <td>0</td>\n",
       "      <td>0</td>\n",
       "      <td>0</td>\n",
       "      <td>0</td>\n",
       "      <td>0</td>\n",
       "      <td>0</td>\n",
       "      <td>0</td>\n",
       "    </tr>\n",
       "    <tr>\n",
       "      <th>IFNb</th>\n",
       "      <td>0</td>\n",
       "      <td>0</td>\n",
       "      <td>1</td>\n",
       "      <td>0</td>\n",
       "      <td>0</td>\n",
       "      <td>0</td>\n",
       "      <td>0</td>\n",
       "      <td>0</td>\n",
       "      <td>0</td>\n",
       "      <td>0</td>\n",
       "      <td>0</td>\n",
       "      <td>0</td>\n",
       "    </tr>\n",
       "    <tr>\n",
       "      <th>IFNb+TNFa+PGE2+P3C</th>\n",
       "      <td>0</td>\n",
       "      <td>0</td>\n",
       "      <td>1</td>\n",
       "      <td>0</td>\n",
       "      <td>0</td>\n",
       "      <td>0</td>\n",
       "      <td>0</td>\n",
       "      <td>0</td>\n",
       "      <td>1</td>\n",
       "      <td>1</td>\n",
       "      <td>1</td>\n",
       "      <td>0</td>\n",
       "    </tr>\n",
       "    <tr>\n",
       "      <th>IFNb+TNFa+PGE2+P3C+IFNg</th>\n",
       "      <td>0</td>\n",
       "      <td>0</td>\n",
       "      <td>1</td>\n",
       "      <td>1</td>\n",
       "      <td>0</td>\n",
       "      <td>0</td>\n",
       "      <td>0</td>\n",
       "      <td>0</td>\n",
       "      <td>1</td>\n",
       "      <td>1</td>\n",
       "      <td>1</td>\n",
       "      <td>0</td>\n",
       "    </tr>\n",
       "  </tbody>\n",
       "</table>\n",
       "</div>"
      ],
      "text/plain": [
       "                         Ligand_GC  Ligand_IC  Ligand_IFNb  Ligand_IFNg  \\\n",
       "CON                              0          0            0            0   \n",
       "GC                               1          0            0            0   \n",
       "IFNb                             0          0            1            0   \n",
       "IFNb+TNFa+PGE2+P3C               0          0            1            0   \n",
       "IFNb+TNFa+PGE2+P3C+IFNg          0          0            1            1   \n",
       "\n",
       "                         Ligand_IL10  Ligand_IL13  Ligand_IL4  Ligand_LPSc  \\\n",
       "CON                                0            0           0            0   \n",
       "GC                                 0            0           0            0   \n",
       "IFNb                               0            0           0            0   \n",
       "IFNb+TNFa+PGE2+P3C                 0            0           0            0   \n",
       "IFNb+TNFa+PGE2+P3C+IFNg            0            0           0            0   \n",
       "\n",
       "                         Ligand_P3C  Ligand_PGE2  Ligand_TNFa  Ligand_upLPS  \n",
       "CON                               0            0            0             0  \n",
       "GC                                0            0            0             0  \n",
       "IFNb                              0            0            0             0  \n",
       "IFNb+TNFa+PGE2+P3C                1            1            1             0  \n",
       "IFNb+TNFa+PGE2+P3C+IFNg           1            1            1             0  "
      ]
     },
     "execution_count": 92,
     "metadata": {},
     "output_type": "execute_result"
    }
   ],
   "source": [
    "mod.X_in.head()"
   ]
  },
  {
   "cell_type": "markdown",
   "id": "7c2a592b-2748-4b5a-b343-0348e1baab3d",
   "metadata": {},
   "source": [
    "The TF activity output, after filtering for nodes in the network, looks like this:"
   ]
  },
  {
   "cell_type": "code",
   "execution_count": 93,
   "id": "c09b4050-be3e-4199-aed9-de095c1f47ad",
   "metadata": {},
   "outputs": [
    {
     "data": {
      "text/html": [
       "<div>\n",
       "<style scoped>\n",
       "    .dataframe tbody tr th:only-of-type {\n",
       "        vertical-align: middle;\n",
       "    }\n",
       "\n",
       "    .dataframe tbody tr th {\n",
       "        vertical-align: top;\n",
       "    }\n",
       "\n",
       "    .dataframe thead th {\n",
       "        text-align: right;\n",
       "    }\n",
       "</style>\n",
       "<table border=\"1\" class=\"dataframe\">\n",
       "  <thead>\n",
       "    <tr style=\"text-align: right;\">\n",
       "      <th></th>\n",
       "      <th>O43524</th>\n",
       "      <th>O75030</th>\n",
       "      <th>P01100</th>\n",
       "      <th>P01106</th>\n",
       "      <th>P03372</th>\n",
       "      <th>P04637</th>\n",
       "      <th>P05412</th>\n",
       "      <th>P08047</th>\n",
       "      <th>P10070</th>\n",
       "      <th>P10242</th>\n",
       "      <th>...</th>\n",
       "      <th>Q07869</th>\n",
       "      <th>Q08050</th>\n",
       "      <th>Q12778</th>\n",
       "      <th>Q13127</th>\n",
       "      <th>Q13485</th>\n",
       "      <th>Q14186</th>\n",
       "      <th>Q16665</th>\n",
       "      <th>Q9H3D4</th>\n",
       "      <th>Q9NQB0</th>\n",
       "      <th>Q9UJU2</th>\n",
       "    </tr>\n",
       "  </thead>\n",
       "  <tbody>\n",
       "    <tr>\n",
       "      <th>CON</th>\n",
       "      <td>0.543487</td>\n",
       "      <td>0.506355</td>\n",
       "      <td>0.288705</td>\n",
       "      <td>0.524944</td>\n",
       "      <td>0.508840</td>\n",
       "      <td>0.535930</td>\n",
       "      <td>0.456016</td>\n",
       "      <td>0.799885</td>\n",
       "      <td>0.465701</td>\n",
       "      <td>0.407298</td>\n",
       "      <td>...</td>\n",
       "      <td>0.479674</td>\n",
       "      <td>0.404891</td>\n",
       "      <td>0.409449</td>\n",
       "      <td>0.568049</td>\n",
       "      <td>0.439274</td>\n",
       "      <td>0.702048</td>\n",
       "      <td>0.450063</td>\n",
       "      <td>0.147630</td>\n",
       "      <td>0.384904</td>\n",
       "      <td>0.677774</td>\n",
       "    </tr>\n",
       "    <tr>\n",
       "      <th>GC</th>\n",
       "      <td>0.677927</td>\n",
       "      <td>0.617778</td>\n",
       "      <td>0.119494</td>\n",
       "      <td>0.724938</td>\n",
       "      <td>0.613868</td>\n",
       "      <td>0.796771</td>\n",
       "      <td>0.011826</td>\n",
       "      <td>0.439144</td>\n",
       "      <td>0.421594</td>\n",
       "      <td>0.677585</td>\n",
       "      <td>...</td>\n",
       "      <td>0.299406</td>\n",
       "      <td>0.103314</td>\n",
       "      <td>0.656781</td>\n",
       "      <td>0.440104</td>\n",
       "      <td>0.544396</td>\n",
       "      <td>0.482236</td>\n",
       "      <td>0.094289</td>\n",
       "      <td>0.250332</td>\n",
       "      <td>0.209280</td>\n",
       "      <td>0.637135</td>\n",
       "    </tr>\n",
       "    <tr>\n",
       "      <th>IFNb</th>\n",
       "      <td>0.384689</td>\n",
       "      <td>0.621748</td>\n",
       "      <td>0.109474</td>\n",
       "      <td>0.352545</td>\n",
       "      <td>0.558823</td>\n",
       "      <td>0.512618</td>\n",
       "      <td>0.187316</td>\n",
       "      <td>0.326541</td>\n",
       "      <td>0.430194</td>\n",
       "      <td>0.573846</td>\n",
       "      <td>...</td>\n",
       "      <td>0.505945</td>\n",
       "      <td>0.732870</td>\n",
       "      <td>0.513355</td>\n",
       "      <td>0.429696</td>\n",
       "      <td>0.509111</td>\n",
       "      <td>0.545478</td>\n",
       "      <td>0.131642</td>\n",
       "      <td>0.557754</td>\n",
       "      <td>0.465558</td>\n",
       "      <td>0.649616</td>\n",
       "    </tr>\n",
       "    <tr>\n",
       "      <th>IFNb+TNFa+PGE2+P3C</th>\n",
       "      <td>0.894344</td>\n",
       "      <td>0.618304</td>\n",
       "      <td>0.815526</td>\n",
       "      <td>0.029120</td>\n",
       "      <td>0.789124</td>\n",
       "      <td>0.627074</td>\n",
       "      <td>0.393195</td>\n",
       "      <td>0.551965</td>\n",
       "      <td>0.399580</td>\n",
       "      <td>0.498236</td>\n",
       "      <td>...</td>\n",
       "      <td>0.241678</td>\n",
       "      <td>0.735164</td>\n",
       "      <td>0.709700</td>\n",
       "      <td>0.383326</td>\n",
       "      <td>0.503909</td>\n",
       "      <td>0.150867</td>\n",
       "      <td>0.736157</td>\n",
       "      <td>0.556562</td>\n",
       "      <td>0.390066</td>\n",
       "      <td>0.232772</td>\n",
       "    </tr>\n",
       "    <tr>\n",
       "      <th>IFNb+TNFa+PGE2+P3C+IFNg</th>\n",
       "      <td>0.757642</td>\n",
       "      <td>0.506760</td>\n",
       "      <td>0.772328</td>\n",
       "      <td>0.033346</td>\n",
       "      <td>0.645125</td>\n",
       "      <td>0.762146</td>\n",
       "      <td>0.619820</td>\n",
       "      <td>0.420949</td>\n",
       "      <td>0.406377</td>\n",
       "      <td>0.303368</td>\n",
       "      <td>...</td>\n",
       "      <td>0.088150</td>\n",
       "      <td>0.655950</td>\n",
       "      <td>0.762460</td>\n",
       "      <td>0.409982</td>\n",
       "      <td>0.199154</td>\n",
       "      <td>0.199775</td>\n",
       "      <td>0.818583</td>\n",
       "      <td>0.677592</td>\n",
       "      <td>0.346423</td>\n",
       "      <td>0.165553</td>\n",
       "    </tr>\n",
       "  </tbody>\n",
       "</table>\n",
       "<p>5 rows × 58 columns</p>\n",
       "</div>"
      ],
      "text/plain": [
       "                           O43524    O75030    P01100    P01106    P03372  \\\n",
       "CON                      0.543487  0.506355  0.288705  0.524944  0.508840   \n",
       "GC                       0.677927  0.617778  0.119494  0.724938  0.613868   \n",
       "IFNb                     0.384689  0.621748  0.109474  0.352545  0.558823   \n",
       "IFNb+TNFa+PGE2+P3C       0.894344  0.618304  0.815526  0.029120  0.789124   \n",
       "IFNb+TNFa+PGE2+P3C+IFNg  0.757642  0.506760  0.772328  0.033346  0.645125   \n",
       "\n",
       "                           P04637    P05412    P08047    P10070    P10242  \\\n",
       "CON                      0.535930  0.456016  0.799885  0.465701  0.407298   \n",
       "GC                       0.796771  0.011826  0.439144  0.421594  0.677585   \n",
       "IFNb                     0.512618  0.187316  0.326541  0.430194  0.573846   \n",
       "IFNb+TNFa+PGE2+P3C       0.627074  0.393195  0.551965  0.399580  0.498236   \n",
       "IFNb+TNFa+PGE2+P3C+IFNg  0.762146  0.619820  0.420949  0.406377  0.303368   \n",
       "\n",
       "                         ...    Q07869    Q08050    Q12778    Q13127  \\\n",
       "CON                      ...  0.479674  0.404891  0.409449  0.568049   \n",
       "GC                       ...  0.299406  0.103314  0.656781  0.440104   \n",
       "IFNb                     ...  0.505945  0.732870  0.513355  0.429696   \n",
       "IFNb+TNFa+PGE2+P3C       ...  0.241678  0.735164  0.709700  0.383326   \n",
       "IFNb+TNFa+PGE2+P3C+IFNg  ...  0.088150  0.655950  0.762460  0.409982   \n",
       "\n",
       "                           Q13485    Q14186    Q16665    Q9H3D4    Q9NQB0  \\\n",
       "CON                      0.439274  0.702048  0.450063  0.147630  0.384904   \n",
       "GC                       0.544396  0.482236  0.094289  0.250332  0.209280   \n",
       "IFNb                     0.509111  0.545478  0.131642  0.557754  0.465558   \n",
       "IFNb+TNFa+PGE2+P3C       0.503909  0.150867  0.736157  0.556562  0.390066   \n",
       "IFNb+TNFa+PGE2+P3C+IFNg  0.199154  0.199775  0.818583  0.677592  0.346423   \n",
       "\n",
       "                           Q9UJU2  \n",
       "CON                      0.677774  \n",
       "GC                       0.637135  \n",
       "IFNb                     0.649616  \n",
       "IFNb+TNFa+PGE2+P3C       0.232772  \n",
       "IFNb+TNFa+PGE2+P3C+IFNg  0.165553  \n",
       "\n",
       "[5 rows x 58 columns]"
      ]
     },
     "execution_count": 93,
     "metadata": {},
     "output_type": "execute_result"
    }
   ],
   "source": [
    "mod.y_out.head()"
   ]
  },
  {
   "cell_type": "markdown",
   "id": "963ce201-62d4-4a77-9644-fdedd822ee3e",
   "metadata": {},
   "source": [
    "The forward pass looks like this:"
   ]
  },
  {
   "cell_type": "code",
   "execution_count": 94,
   "id": "a04c2790-30c8-4360-b020-56de996c265b",
   "metadata": {},
   "outputs": [],
   "source": [
    "X_in = mod.df_to_tensor(mod.X_in)\n",
    "X_full = mod.input_layer(X_in)"
   ]
  },
  {
   "cell_type": "markdown",
   "id": "0e3bf8b9-718c-4bdc-9712-92e03e762d93",
   "metadata": {},
   "source": [
    "# test"
   ]
  },
  {
   "cell_type": "code",
   "execution_count": 128,
   "id": "f9071499-c35b-4e8b-9c80-3258c077b669",
   "metadata": {},
   "outputs": [
    {
     "data": {
      "text/plain": [
       "device(type='cpu')"
      ]
     },
     "execution_count": 128,
     "metadata": {},
     "output_type": "execute_result"
    }
   ],
   "source": [
    "X_in.device"
   ]
  },
  {
   "cell_type": "code",
   "execution_count": 190,
   "id": "a70da6f6-7c49-4b3f-a410-abb95c7d86cc",
   "metadata": {},
   "outputs": [],
   "source": [
    "mod = SignalingModel(net = net,\n",
    "                     X_in = ligand_input,\n",
    "                     y_out = tf_output, \n",
    "                     projection_amplitude = 3, projection_factor = 1.2,\n",
    "                     weight_label = weight_label, source_label = source_label, target_label = target_label,\n",
    "                     bionet_params = training_parameters, dtype = torch.float32, \n",
    "                     device = 'cpu')\n",
    "X_in = mod.df_to_tensor(mod.X_in)\n",
    "X_full = mod.input_layer(X_in)\n",
    "\n",
    "self = BioNet(edge_list = mod.edge_list, \n",
    "      edge_weights = mod.edge_weights, \n",
    "      n_network_nodes = len(mod.node_labels), \n",
    "      bionet_params = mod.bionet_params, \n",
    "      activation_function = 'MML', \n",
    "      dtype = mod.dtype)"
   ]
  },
  {
   "cell_type": "code",
   "execution_count": 191,
   "id": "c6a02a0e-517f-45e9-99d2-7e8d55e00e4e",
   "metadata": {},
   "outputs": [],
   "source": []
  },
  {
   "cell_type": "code",
   "execution_count": 196,
   "id": "2c2cc6ff-80ad-4d89-9727-8bb058e85ff0",
   "metadata": {},
   "outputs": [
    {
     "data": {
      "text/plain": [
       "torch.Size([23, 1128])"
      ]
     },
     "execution_count": 196,
     "metadata": {},
     "output_type": "execute_result"
    }
   ],
   "source": [
    "X_full.shape"
   ]
  },
  {
   "cell_type": "code",
   "execution_count": 197,
   "id": "141281da-3db8-4d90-884a-523ce2c16f4f",
   "metadata": {},
   "outputs": [
    {
     "data": {
      "text/plain": [
       "torch.Size([23, 1128])"
      ]
     },
     "execution_count": 197,
     "metadata": {},
     "output_type": "execute_result"
    }
   ],
   "source": [
    "steady_state.shape"
   ]
  },
  {
   "cell_type": "code",
   "execution_count": 179,
   "id": "a6c26c18-a6cd-437e-91fc-d950f38393d7",
   "metadata": {},
   "outputs": [],
   "source": [
    "self.weights.data.masked_fill_(mask = self.mask, value = 0.0) # fill non-interacting edges with 0\n",
    "\n",
    "X_bias = X_full.T + self.bias # this is the bias with the projection_amplitude included\n",
    "X_new = torch.zeros_like(X_bias) #initialize all values at 0"
   ]
  },
  {
   "cell_type": "code",
   "execution_count": 188,
   "id": "9a988bf2-36b5-4995-94cd-844160b873e0",
   "metadata": {},
   "outputs": [],
   "source": [
    "X_old = X_new\n",
    "X_new = torch.mm(self.weights, X_new) # scale matrix by edge weights\n",
    "X_new = X_new + X_bias  # add original values and bias       \n",
    "X_new = self.activation(X_new, self.training_params['leak'])"
   ]
  },
  {
   "cell_type": "code",
   "execution_count": 189,
   "id": "f1fe1943-0eca-46c5-88c5-5df8a2187930",
   "metadata": {},
   "outputs": [
    {
     "data": {
      "text/plain": [
       "tensor([[0.0089, 0.0089, 0.0089,  ..., 0.0089, 0.0089, 0.0089],\n",
       "        [0.0242, 0.0242, 0.0242,  ..., 0.0251, 0.0251, 0.0251],\n",
       "        [0.0010, 0.9167, 0.0010,  ..., 0.0010, 0.0010, 0.0010],\n",
       "        ...,\n",
       "        [0.0031, 0.0031, 0.0034,  ..., 0.0031, 0.0031, 0.0031],\n",
       "        [0.0509, 0.0504, 0.0551,  ..., 0.0509, 0.0509, 0.0509],\n",
       "        [0.0096, 0.0058, 0.0090,  ..., 0.0096, 0.0096, 0.0091]],\n",
       "       grad_fn=<AddBackward0>)"
      ]
     },
     "execution_count": 189,
     "metadata": {},
     "output_type": "execute_result"
    }
   ],
   "source": [
    "X_new"
   ]
  },
  {
   "cell_type": "code",
   "execution_count": 168,
   "id": "094ea05e-cb8b-477e-8503-6b939220fa72",
   "metadata": {},
   "outputs": [
    {
     "ename": "NameError",
     "evalue": "name 'diff' is not defined",
     "output_type": "error",
     "traceback": [
      "\u001b[0;31m---------------------------------------------------------------------------\u001b[0m",
      "\u001b[0;31mNameError\u001b[0m                                 Traceback (most recent call last)",
      "Cell \u001b[0;32mIn[168], line 1\u001b[0m\n\u001b[0;32m----> 1\u001b[0m \u001b[43mdiff\u001b[49m\u001b[38;5;241m.\u001b[39mlt(tol)\n",
      "\u001b[0;31mNameError\u001b[0m: name 'diff' is not defined"
     ]
    }
   ],
   "source": [
    "if (i % 10 == 0) and (i > 20):\n",
    "    diff = torch.max(torch.abs(X_new - X_old))    \n",
    "    pass_tolerance = diff.lt(tol)\n",
    "    if pass_tolerance == condition:\n",
    "        break"
   ]
  },
  {
   "cell_type": "code",
   "execution_count": 171,
   "id": "cd1aa52d-719f-4ac7-8f9e-385cfc9cd8ca",
   "metadata": {},
   "outputs": [
    {
     "data": {
      "text/plain": [
       "tensor(False)"
      ]
     },
     "execution_count": 171,
     "metadata": {},
     "output_type": "execute_result"
    }
   ],
   "source": [
    "diff.lt(tol)"
   ]
  },
  {
   "cell_type": "code",
   "execution_count": null,
   "id": "f57a0516-fb7b-4d65-bccb-6da49d6275cd",
   "metadata": {},
   "outputs": [],
   "source": []
  },
  {
   "cell_type": "code",
   "execution_count": 157,
   "id": "b8defc75-7fb0-45b2-8a70-21aeece67a70",
   "metadata": {},
   "outputs": [
    {
     "data": {
      "text/plain": [
       "True"
      ]
     },
     "execution_count": 157,
     "metadata": {},
     "output_type": "execute_result"
    }
   ],
   "source": []
  },
  {
   "cell_type": "code",
   "execution_count": 144,
   "id": "046ed2cf-7339-4c00-a42b-dfe0f1dea687",
   "metadata": {},
   "outputs": [
    {
     "data": {
      "text/plain": [
       "(23, 12)"
      ]
     },
     "execution_count": 144,
     "metadata": {},
     "output_type": "execute_result"
    }
   ],
   "source": [
    "mod.X_in.shape"
   ]
  },
  {
   "cell_type": "code",
   "execution_count": null,
   "id": "62fd46e1-8d26-4525-8f9c-dd7a8e651b0d",
   "metadata": {},
   "outputs": [],
   "source": []
  }
 ],
 "metadata": {
  "kernelspec": {
   "display_name": "Python [conda env:scLEMBAS]",
   "language": "python",
   "name": "conda-env-scLEMBAS-py"
  },
  "language_info": {
   "codemirror_mode": {
    "name": "ipython",
    "version": 3
   },
   "file_extension": ".py",
   "mimetype": "text/x-python",
   "name": "python",
   "nbconvert_exporter": "python",
   "pygments_lexer": "ipython3",
   "version": "3.11.7"
  }
 },
 "nbformat": 4,
 "nbformat_minor": 5
}
