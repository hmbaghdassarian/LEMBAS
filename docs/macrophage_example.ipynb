{
 "cells": [
  {
   "cell_type": "markdown",
   "id": "3f394f29-0c13-4eca-b183-af19fcf59f6b",
   "metadata": {},
   "source": [
    "# Tutorial"
   ]
  },
  {
   "cell_type": "markdown",
   "id": "05080d94-f8a1-4508-9947-5589e7528788",
   "metadata": {},
   "source": [
    "Example of running the LEMBAS model on toy macrophage data."
   ]
  },
  {
   "cell_type": "code",
   "execution_count": 1,
   "id": "5d9f03ee-bd2b-4640-9ba8-b08b6ebd2a75",
   "metadata": {},
   "outputs": [
    {
     "name": "stderr",
     "output_type": "stream",
     "text": [
      "/tmp/ipykernel_1108639/3121986289.py:4: DeprecationWarning: \n",
      "Pyarrow will become a required dependency of pandas in the next major release of pandas (pandas 3.0),\n",
      "(to allow more performant data types, such as the Arrow string type, and better interoperability with other libraries)\n",
      "but was not found to be installed on your system.\n",
      "If this would cause problems for you,\n",
      "please provide us feedback at https://github.com/pandas-dev/pandas/issues/54466\n",
      "        \n",
      "  import pandas as pd\n"
     ]
    }
   ],
   "source": [
    "import os\n",
    "\n",
    "import numpy as np\n",
    "import pandas as pd\n",
    "\n",
    "from scipy.stats import pearsonr\n",
    "import torch\n",
    "\n",
    "import plotnine as p9\n",
    "\n",
    "from LEMBAS.model.bionetwork import format_network, SignalingModel\n",
    "from LEMBAS.model.train import train_signaling_model\n",
    "import LEMBAS.utilities as utils\n",
    "from LEMBAS import plotting, io"
   ]
  },
  {
   "cell_type": "code",
   "execution_count": 2,
   "id": "c4fe91c3-d339-4f51-a0a1-f2f584837299",
   "metadata": {},
   "outputs": [],
   "source": [
    "n_cores = 12\n",
    "utils.set_cores(n_cores)\n",
    "\n",
    "seed = 888\n",
    "if seed:\n",
    "    torch.use_deterministic_algorithms(True)\n",
    "    os.environ['CUBLAS_WORKSPACE_CONFIG'] = ':4096:8'\n",
    "    utils.set_seeds(seed = seed)\n",
    "\n",
    "device = \"cuda\" if torch.cuda.is_available() else \"cpu\"\n",
    "data_path = '../macrophage_data'\n",
    "if not os.path.isdir(data_path):\n",
    "    os.mkdir(data_path)"
   ]
  },
  {
   "cell_type": "markdown",
   "id": "1e0116b0-4d14-4e23-955f-dc16fd11d0c7",
   "metadata": {},
   "source": [
    "## Build the Model"
   ]
  },
  {
   "cell_type": "markdown",
   "id": "16d02500-42cd-423e-ae2d-8cc35e6eb8da",
   "metadata": {},
   "source": [
    "### Load Input Data"
   ]
  },
  {
   "cell_type": "code",
   "execution_count": 3,
   "id": "222d00aa-262a-4e9e-bb86-9026574b6c75",
   "metadata": {},
   "outputs": [],
   "source": [
    "# prior knowledge signaling network\n",
    "net = pd.read_csv('https://zenodo.org/records/10815391/files/macrophage_network.tsv', sep = '\\t', index_col = False)\n",
    "\n",
    "# ligand input and TF output\n",
    "ligand_input = pd.read_csv('https://zenodo.org/records/10815391/files/macrophage_ligands.tsv', sep = '\\t', index_col = 0)\n",
    "tf_output = pd.read_csv('https://zenodo.org/records/10815391/files/macrophage_TFs.tsv', sep='\\t', low_memory=False, index_col=0)"
   ]
  },
  {
   "cell_type": "markdown",
   "id": "2ff8c983-b4b6-4e3e-877b-6d279e738891",
   "metadata": {},
   "source": [
    "Let's see what the signaling network looks like:"
   ]
  },
  {
   "cell_type": "code",
   "execution_count": 4,
   "id": "c9d88540-c26d-46ff-a98b-18019eee8cde",
   "metadata": {},
   "outputs": [
    {
     "data": {
      "text/html": [
       "<div>\n",
       "<style scoped>\n",
       "    .dataframe tbody tr th:only-of-type {\n",
       "        vertical-align: middle;\n",
       "    }\n",
       "\n",
       "    .dataframe tbody tr th {\n",
       "        vertical-align: top;\n",
       "    }\n",
       "\n",
       "    .dataframe thead th {\n",
       "        text-align: right;\n",
       "    }\n",
       "</style>\n",
       "<table border=\"1\" class=\"dataframe\">\n",
       "  <thead>\n",
       "    <tr style=\"text-align: right;\">\n",
       "      <th></th>\n",
       "      <th>source</th>\n",
       "      <th>target</th>\n",
       "      <th>stimulation</th>\n",
       "      <th>inhibition</th>\n",
       "    </tr>\n",
       "  </thead>\n",
       "  <tbody>\n",
       "    <tr>\n",
       "      <th>0</th>\n",
       "      <td>P49137</td>\n",
       "      <td>Q16539</td>\n",
       "      <td>0</td>\n",
       "      <td>0</td>\n",
       "    </tr>\n",
       "    <tr>\n",
       "      <th>1</th>\n",
       "      <td>Q16539</td>\n",
       "      <td>P49137</td>\n",
       "      <td>1</td>\n",
       "      <td>0</td>\n",
       "    </tr>\n",
       "    <tr>\n",
       "      <th>2</th>\n",
       "      <td>P31749</td>\n",
       "      <td>O15111</td>\n",
       "      <td>1</td>\n",
       "      <td>0</td>\n",
       "    </tr>\n",
       "    <tr>\n",
       "      <th>3</th>\n",
       "      <td>O15111</td>\n",
       "      <td>P19838</td>\n",
       "      <td>1</td>\n",
       "      <td>0</td>\n",
       "    </tr>\n",
       "    <tr>\n",
       "      <th>4</th>\n",
       "      <td>P19838</td>\n",
       "      <td>O15111</td>\n",
       "      <td>0</td>\n",
       "      <td>0</td>\n",
       "    </tr>\n",
       "  </tbody>\n",
       "</table>\n",
       "</div>"
      ],
      "text/plain": [
       "   source  target  stimulation  inhibition\n",
       "0  P49137  Q16539            0           0\n",
       "1  Q16539  P49137            1           0\n",
       "2  P31749  O15111            1           0\n",
       "3  O15111  P19838            1           0\n",
       "4  P19838  O15111            0           0"
      ]
     },
     "execution_count": 4,
     "metadata": {},
     "output_type": "execute_result"
    }
   ],
   "source": [
    "stimulation_label = 'stimulation'\n",
    "inhibition_label = 'inhibition'\n",
    "weight_label = 'mode_of_action'\n",
    "source_label = 'source'\n",
    "target_label = 'target'\n",
    "\n",
    "net[[source_label, target_label, stimulation_label, inhibition_label]].head()"
   ]
  },
  {
   "cell_type": "markdown",
   "id": "0d266081-823d-4805-8664-35472ade9440",
   "metadata": {},
   "source": [
    "Let's format it to fit with the necessary inputs to the SignalingModel:"
   ]
  },
  {
   "cell_type": "code",
   "execution_count": 5,
   "id": "2afcb95a-8583-42ad-b12c-c9352bebf2ae",
   "metadata": {},
   "outputs": [
    {
     "data": {
      "text/html": [
       "<div>\n",
       "<style scoped>\n",
       "    .dataframe tbody tr th:only-of-type {\n",
       "        vertical-align: middle;\n",
       "    }\n",
       "\n",
       "    .dataframe tbody tr th {\n",
       "        vertical-align: top;\n",
       "    }\n",
       "\n",
       "    .dataframe thead th {\n",
       "        text-align: right;\n",
       "    }\n",
       "</style>\n",
       "<table border=\"1\" class=\"dataframe\">\n",
       "  <thead>\n",
       "    <tr style=\"text-align: right;\">\n",
       "      <th></th>\n",
       "      <th>source</th>\n",
       "      <th>target</th>\n",
       "      <th>mode_of_action</th>\n",
       "      <th>stimulation</th>\n",
       "      <th>inhibition</th>\n",
       "    </tr>\n",
       "  </thead>\n",
       "  <tbody>\n",
       "    <tr>\n",
       "      <th>0</th>\n",
       "      <td>P49137</td>\n",
       "      <td>Q16539</td>\n",
       "      <td>0.1</td>\n",
       "      <td>0</td>\n",
       "      <td>0</td>\n",
       "    </tr>\n",
       "    <tr>\n",
       "      <th>1</th>\n",
       "      <td>Q16539</td>\n",
       "      <td>P49137</td>\n",
       "      <td>1.0</td>\n",
       "      <td>1</td>\n",
       "      <td>0</td>\n",
       "    </tr>\n",
       "    <tr>\n",
       "      <th>2</th>\n",
       "      <td>P31749</td>\n",
       "      <td>O15111</td>\n",
       "      <td>1.0</td>\n",
       "      <td>1</td>\n",
       "      <td>0</td>\n",
       "    </tr>\n",
       "    <tr>\n",
       "      <th>3</th>\n",
       "      <td>O15111</td>\n",
       "      <td>P19838</td>\n",
       "      <td>1.0</td>\n",
       "      <td>1</td>\n",
       "      <td>0</td>\n",
       "    </tr>\n",
       "    <tr>\n",
       "      <th>4</th>\n",
       "      <td>P19838</td>\n",
       "      <td>O15111</td>\n",
       "      <td>0.1</td>\n",
       "      <td>0</td>\n",
       "      <td>0</td>\n",
       "    </tr>\n",
       "  </tbody>\n",
       "</table>\n",
       "</div>"
      ],
      "text/plain": [
       "   source  target  mode_of_action  stimulation  inhibition\n",
       "0  P49137  Q16539             0.1            0           0\n",
       "1  Q16539  P49137             1.0            1           0\n",
       "2  P31749  O15111             1.0            1           0\n",
       "3  O15111  P19838             1.0            1           0\n",
       "4  P19838  O15111             0.1            0           0"
      ]
     },
     "execution_count": 5,
     "metadata": {},
     "output_type": "execute_result"
    }
   ],
   "source": [
    "net = format_network(net, weight_label = weight_label, stimulation_label = stimulation_label, inhibition_label = inhibition_label)\n",
    "net[[source_label, target_label, weight_label, stimulation_label, inhibition_label]].head()"
   ]
  },
  {
   "cell_type": "markdown",
   "id": "1142e04d-108e-4dd0-a41e-23e166702077",
   "metadata": {},
   "source": [
    "### Define Parameters to Build and Train Model"
   ]
  },
  {
   "cell_type": "code",
   "execution_count": 6,
   "id": "c975a370-4fa9-45e1-9e49-5302ba2d1b29",
   "metadata": {},
   "outputs": [],
   "source": [
    "# linear scaling of inputs/outputs\n",
    "projection_amplitude_in = 3\n",
    "projection_amplitude_out = 1.2\n",
    "# other parameters\n",
    "bionet_params = {'target_steps': 100, 'max_steps': 150, 'exp_factor':50, 'tolerance': 1e-5, 'leak':1e-2} # fed directly to model\n",
    "\n",
    "# training parameters\n",
    "lr_params = {'max_iter': 5000, \n",
    "             'learning_rate': 2e-3}\n",
    "other_params = {'batch_size': 8, 'noise_level': 10, 'gradient_noise_level': 1e-9}\n",
    "regularization_params = {'param_lambda_L2': 1e-6, 'moa_lambda_L1': 0.1, 'ligand_lambda_L2': 1e-5, 'uniform_lambda_L2': 1e-4, \n",
    "                   'uniform_max': 1/projection_amplitude_out, 'spectral_loss_factor': 1e-5}\n",
    "spectral_radius_params = {'n_probes_spectral': 5, 'power_steps_spectral': 50, 'subset_n_spectral': 10}\n",
    "target_spectral_radius = 0.8\n",
    "hyper_params = {**lr_params, **other_params, **regularization_params, **spectral_radius_params} # fed into training function"
   ]
  },
  {
   "cell_type": "markdown",
   "id": "c5a9a8b4-9ac1-4a01-a1f3-c67080c6ad66",
   "metadata": {},
   "source": [
    "### Initialize Model\n",
    "Next, let's initialize the model and format the inputs/outputs for running the model:"
   ]
  },
  {
   "cell_type": "code",
   "execution_count": 7,
   "id": "e240b77a-2411-4732-9ef4-800e3af1a1ec",
   "metadata": {},
   "outputs": [],
   "source": [
    "mod = SignalingModel(net = net,\n",
    "                     X_in = ligand_input,\n",
    "                     y_out = tf_output, \n",
    "                     projection_amplitude_in = projection_amplitude_in, projection_amplitude_out = projection_amplitude_out,\n",
    "                     weight_label = weight_label, source_label = source_label, target_label = target_label,\n",
    "                     bionet_params = bionet_params, \n",
    "                     dtype = torch.float32, device = device, seed = seed)"
   ]
  },
  {
   "cell_type": "markdown",
   "id": "80c01a8c-9340-49cd-b524-c662e3e941b3",
   "metadata": {},
   "source": [
    "The ligand input, after filtering for nodes in the network, looks like this:"
   ]
  },
  {
   "cell_type": "code",
   "execution_count": 8,
   "id": "1e12afc1-ddc0-46c4-a0ec-cc2e7e8bcc6c",
   "metadata": {},
   "outputs": [
    {
     "data": {
      "text/html": [
       "<div>\n",
       "<style scoped>\n",
       "    .dataframe tbody tr th:only-of-type {\n",
       "        vertical-align: middle;\n",
       "    }\n",
       "\n",
       "    .dataframe tbody tr th {\n",
       "        vertical-align: top;\n",
       "    }\n",
       "\n",
       "    .dataframe thead th {\n",
       "        text-align: right;\n",
       "    }\n",
       "</style>\n",
       "<table border=\"1\" class=\"dataframe\">\n",
       "  <thead>\n",
       "    <tr style=\"text-align: right;\">\n",
       "      <th></th>\n",
       "      <th>Ligand_GC</th>\n",
       "      <th>Ligand_IC</th>\n",
       "      <th>Ligand_IFNb</th>\n",
       "      <th>Ligand_IFNg</th>\n",
       "      <th>Ligand_IL10</th>\n",
       "      <th>Ligand_IL13</th>\n",
       "      <th>Ligand_IL4</th>\n",
       "      <th>Ligand_LPSc</th>\n",
       "      <th>Ligand_P3C</th>\n",
       "      <th>Ligand_PGE2</th>\n",
       "      <th>Ligand_TNFa</th>\n",
       "      <th>Ligand_upLPS</th>\n",
       "    </tr>\n",
       "  </thead>\n",
       "  <tbody>\n",
       "    <tr>\n",
       "      <th>CON</th>\n",
       "      <td>0</td>\n",
       "      <td>0</td>\n",
       "      <td>0</td>\n",
       "      <td>0</td>\n",
       "      <td>0</td>\n",
       "      <td>0</td>\n",
       "      <td>0</td>\n",
       "      <td>0</td>\n",
       "      <td>0</td>\n",
       "      <td>0</td>\n",
       "      <td>0</td>\n",
       "      <td>0</td>\n",
       "    </tr>\n",
       "    <tr>\n",
       "      <th>GC</th>\n",
       "      <td>1</td>\n",
       "      <td>0</td>\n",
       "      <td>0</td>\n",
       "      <td>0</td>\n",
       "      <td>0</td>\n",
       "      <td>0</td>\n",
       "      <td>0</td>\n",
       "      <td>0</td>\n",
       "      <td>0</td>\n",
       "      <td>0</td>\n",
       "      <td>0</td>\n",
       "      <td>0</td>\n",
       "    </tr>\n",
       "    <tr>\n",
       "      <th>IFNb</th>\n",
       "      <td>0</td>\n",
       "      <td>0</td>\n",
       "      <td>1</td>\n",
       "      <td>0</td>\n",
       "      <td>0</td>\n",
       "      <td>0</td>\n",
       "      <td>0</td>\n",
       "      <td>0</td>\n",
       "      <td>0</td>\n",
       "      <td>0</td>\n",
       "      <td>0</td>\n",
       "      <td>0</td>\n",
       "    </tr>\n",
       "    <tr>\n",
       "      <th>IFNb+TNFa+PGE2+P3C</th>\n",
       "      <td>0</td>\n",
       "      <td>0</td>\n",
       "      <td>1</td>\n",
       "      <td>0</td>\n",
       "      <td>0</td>\n",
       "      <td>0</td>\n",
       "      <td>0</td>\n",
       "      <td>0</td>\n",
       "      <td>1</td>\n",
       "      <td>1</td>\n",
       "      <td>1</td>\n",
       "      <td>0</td>\n",
       "    </tr>\n",
       "    <tr>\n",
       "      <th>IFNb+TNFa+PGE2+P3C+IFNg</th>\n",
       "      <td>0</td>\n",
       "      <td>0</td>\n",
       "      <td>1</td>\n",
       "      <td>1</td>\n",
       "      <td>0</td>\n",
       "      <td>0</td>\n",
       "      <td>0</td>\n",
       "      <td>0</td>\n",
       "      <td>1</td>\n",
       "      <td>1</td>\n",
       "      <td>1</td>\n",
       "      <td>0</td>\n",
       "    </tr>\n",
       "  </tbody>\n",
       "</table>\n",
       "</div>"
      ],
      "text/plain": [
       "                         Ligand_GC  Ligand_IC  Ligand_IFNb  Ligand_IFNg  \\\n",
       "CON                              0          0            0            0   \n",
       "GC                               1          0            0            0   \n",
       "IFNb                             0          0            1            0   \n",
       "IFNb+TNFa+PGE2+P3C               0          0            1            0   \n",
       "IFNb+TNFa+PGE2+P3C+IFNg          0          0            1            1   \n",
       "\n",
       "                         Ligand_IL10  Ligand_IL13  Ligand_IL4  Ligand_LPSc  \\\n",
       "CON                                0            0           0            0   \n",
       "GC                                 0            0           0            0   \n",
       "IFNb                               0            0           0            0   \n",
       "IFNb+TNFa+PGE2+P3C                 0            0           0            0   \n",
       "IFNb+TNFa+PGE2+P3C+IFNg            0            0           0            0   \n",
       "\n",
       "                         Ligand_P3C  Ligand_PGE2  Ligand_TNFa  Ligand_upLPS  \n",
       "CON                               0            0            0             0  \n",
       "GC                                0            0            0             0  \n",
       "IFNb                              0            0            0             0  \n",
       "IFNb+TNFa+PGE2+P3C                1            1            1             0  \n",
       "IFNb+TNFa+PGE2+P3C+IFNg           1            1            1             0  "
      ]
     },
     "execution_count": 8,
     "metadata": {},
     "output_type": "execute_result"
    }
   ],
   "source": [
    "mod.X_in.head()"
   ]
  },
  {
   "cell_type": "markdown",
   "id": "7c2a592b-2748-4b5a-b343-0348e1baab3d",
   "metadata": {},
   "source": [
    "The TF activity output, after filtering for nodes in the network, looks like this:"
   ]
  },
  {
   "cell_type": "code",
   "execution_count": 9,
   "id": "c09b4050-be3e-4199-aed9-de095c1f47ad",
   "metadata": {},
   "outputs": [
    {
     "data": {
      "text/html": [
       "<div>\n",
       "<style scoped>\n",
       "    .dataframe tbody tr th:only-of-type {\n",
       "        vertical-align: middle;\n",
       "    }\n",
       "\n",
       "    .dataframe tbody tr th {\n",
       "        vertical-align: top;\n",
       "    }\n",
       "\n",
       "    .dataframe thead th {\n",
       "        text-align: right;\n",
       "    }\n",
       "</style>\n",
       "<table border=\"1\" class=\"dataframe\">\n",
       "  <thead>\n",
       "    <tr style=\"text-align: right;\">\n",
       "      <th></th>\n",
       "      <th>O43524</th>\n",
       "      <th>O75030</th>\n",
       "      <th>P01100</th>\n",
       "      <th>P01106</th>\n",
       "      <th>P03372</th>\n",
       "      <th>P04637</th>\n",
       "      <th>P05412</th>\n",
       "      <th>P08047</th>\n",
       "      <th>P10070</th>\n",
       "      <th>P10242</th>\n",
       "      <th>...</th>\n",
       "      <th>Q07869</th>\n",
       "      <th>Q08050</th>\n",
       "      <th>Q12778</th>\n",
       "      <th>Q13127</th>\n",
       "      <th>Q13485</th>\n",
       "      <th>Q14186</th>\n",
       "      <th>Q16665</th>\n",
       "      <th>Q9H3D4</th>\n",
       "      <th>Q9NQB0</th>\n",
       "      <th>Q9UJU2</th>\n",
       "    </tr>\n",
       "  </thead>\n",
       "  <tbody>\n",
       "    <tr>\n",
       "      <th>CON</th>\n",
       "      <td>0.543487</td>\n",
       "      <td>0.506355</td>\n",
       "      <td>0.288705</td>\n",
       "      <td>0.524944</td>\n",
       "      <td>0.508840</td>\n",
       "      <td>0.535930</td>\n",
       "      <td>0.456016</td>\n",
       "      <td>0.799885</td>\n",
       "      <td>0.465701</td>\n",
       "      <td>0.407298</td>\n",
       "      <td>...</td>\n",
       "      <td>0.479674</td>\n",
       "      <td>0.404891</td>\n",
       "      <td>0.409449</td>\n",
       "      <td>0.568049</td>\n",
       "      <td>0.439274</td>\n",
       "      <td>0.702048</td>\n",
       "      <td>0.450063</td>\n",
       "      <td>0.147630</td>\n",
       "      <td>0.384904</td>\n",
       "      <td>0.677774</td>\n",
       "    </tr>\n",
       "    <tr>\n",
       "      <th>GC</th>\n",
       "      <td>0.677927</td>\n",
       "      <td>0.617778</td>\n",
       "      <td>0.119494</td>\n",
       "      <td>0.724938</td>\n",
       "      <td>0.613868</td>\n",
       "      <td>0.796771</td>\n",
       "      <td>0.011826</td>\n",
       "      <td>0.439144</td>\n",
       "      <td>0.421594</td>\n",
       "      <td>0.677585</td>\n",
       "      <td>...</td>\n",
       "      <td>0.299406</td>\n",
       "      <td>0.103314</td>\n",
       "      <td>0.656781</td>\n",
       "      <td>0.440104</td>\n",
       "      <td>0.544396</td>\n",
       "      <td>0.482236</td>\n",
       "      <td>0.094289</td>\n",
       "      <td>0.250332</td>\n",
       "      <td>0.209280</td>\n",
       "      <td>0.637135</td>\n",
       "    </tr>\n",
       "    <tr>\n",
       "      <th>IFNb</th>\n",
       "      <td>0.384689</td>\n",
       "      <td>0.621748</td>\n",
       "      <td>0.109474</td>\n",
       "      <td>0.352545</td>\n",
       "      <td>0.558823</td>\n",
       "      <td>0.512618</td>\n",
       "      <td>0.187316</td>\n",
       "      <td>0.326541</td>\n",
       "      <td>0.430194</td>\n",
       "      <td>0.573846</td>\n",
       "      <td>...</td>\n",
       "      <td>0.505945</td>\n",
       "      <td>0.732870</td>\n",
       "      <td>0.513355</td>\n",
       "      <td>0.429696</td>\n",
       "      <td>0.509111</td>\n",
       "      <td>0.545478</td>\n",
       "      <td>0.131642</td>\n",
       "      <td>0.557754</td>\n",
       "      <td>0.465558</td>\n",
       "      <td>0.649616</td>\n",
       "    </tr>\n",
       "    <tr>\n",
       "      <th>IFNb+TNFa+PGE2+P3C</th>\n",
       "      <td>0.894344</td>\n",
       "      <td>0.618304</td>\n",
       "      <td>0.815526</td>\n",
       "      <td>0.029120</td>\n",
       "      <td>0.789124</td>\n",
       "      <td>0.627074</td>\n",
       "      <td>0.393195</td>\n",
       "      <td>0.551965</td>\n",
       "      <td>0.399580</td>\n",
       "      <td>0.498236</td>\n",
       "      <td>...</td>\n",
       "      <td>0.241678</td>\n",
       "      <td>0.735164</td>\n",
       "      <td>0.709700</td>\n",
       "      <td>0.383326</td>\n",
       "      <td>0.503909</td>\n",
       "      <td>0.150867</td>\n",
       "      <td>0.736157</td>\n",
       "      <td>0.556562</td>\n",
       "      <td>0.390066</td>\n",
       "      <td>0.232772</td>\n",
       "    </tr>\n",
       "    <tr>\n",
       "      <th>IFNb+TNFa+PGE2+P3C+IFNg</th>\n",
       "      <td>0.757642</td>\n",
       "      <td>0.506760</td>\n",
       "      <td>0.772328</td>\n",
       "      <td>0.033346</td>\n",
       "      <td>0.645125</td>\n",
       "      <td>0.762146</td>\n",
       "      <td>0.619820</td>\n",
       "      <td>0.420949</td>\n",
       "      <td>0.406377</td>\n",
       "      <td>0.303368</td>\n",
       "      <td>...</td>\n",
       "      <td>0.088150</td>\n",
       "      <td>0.655950</td>\n",
       "      <td>0.762460</td>\n",
       "      <td>0.409982</td>\n",
       "      <td>0.199154</td>\n",
       "      <td>0.199775</td>\n",
       "      <td>0.818583</td>\n",
       "      <td>0.677592</td>\n",
       "      <td>0.346423</td>\n",
       "      <td>0.165553</td>\n",
       "    </tr>\n",
       "  </tbody>\n",
       "</table>\n",
       "<p>5 rows × 58 columns</p>\n",
       "</div>"
      ],
      "text/plain": [
       "                           O43524    O75030    P01100    P01106    P03372  \\\n",
       "CON                      0.543487  0.506355  0.288705  0.524944  0.508840   \n",
       "GC                       0.677927  0.617778  0.119494  0.724938  0.613868   \n",
       "IFNb                     0.384689  0.621748  0.109474  0.352545  0.558823   \n",
       "IFNb+TNFa+PGE2+P3C       0.894344  0.618304  0.815526  0.029120  0.789124   \n",
       "IFNb+TNFa+PGE2+P3C+IFNg  0.757642  0.506760  0.772328  0.033346  0.645125   \n",
       "\n",
       "                           P04637    P05412    P08047    P10070    P10242  \\\n",
       "CON                      0.535930  0.456016  0.799885  0.465701  0.407298   \n",
       "GC                       0.796771  0.011826  0.439144  0.421594  0.677585   \n",
       "IFNb                     0.512618  0.187316  0.326541  0.430194  0.573846   \n",
       "IFNb+TNFa+PGE2+P3C       0.627074  0.393195  0.551965  0.399580  0.498236   \n",
       "IFNb+TNFa+PGE2+P3C+IFNg  0.762146  0.619820  0.420949  0.406377  0.303368   \n",
       "\n",
       "                         ...    Q07869    Q08050    Q12778    Q13127  \\\n",
       "CON                      ...  0.479674  0.404891  0.409449  0.568049   \n",
       "GC                       ...  0.299406  0.103314  0.656781  0.440104   \n",
       "IFNb                     ...  0.505945  0.732870  0.513355  0.429696   \n",
       "IFNb+TNFa+PGE2+P3C       ...  0.241678  0.735164  0.709700  0.383326   \n",
       "IFNb+TNFa+PGE2+P3C+IFNg  ...  0.088150  0.655950  0.762460  0.409982   \n",
       "\n",
       "                           Q13485    Q14186    Q16665    Q9H3D4    Q9NQB0  \\\n",
       "CON                      0.439274  0.702048  0.450063  0.147630  0.384904   \n",
       "GC                       0.544396  0.482236  0.094289  0.250332  0.209280   \n",
       "IFNb                     0.509111  0.545478  0.131642  0.557754  0.465558   \n",
       "IFNb+TNFa+PGE2+P3C       0.503909  0.150867  0.736157  0.556562  0.390066   \n",
       "IFNb+TNFa+PGE2+P3C+IFNg  0.199154  0.199775  0.818583  0.677592  0.346423   \n",
       "\n",
       "                           Q9UJU2  \n",
       "CON                      0.677774  \n",
       "GC                       0.637135  \n",
       "IFNb                     0.649616  \n",
       "IFNb+TNFa+PGE2+P3C       0.232772  \n",
       "IFNb+TNFa+PGE2+P3C+IFNg  0.165553  \n",
       "\n",
       "[5 rows x 58 columns]"
      ]
     },
     "execution_count": 9,
     "metadata": {},
     "output_type": "execute_result"
    }
   ],
   "source": [
    "mod.y_out.head()"
   ]
  },
  {
   "cell_type": "markdown",
   "id": "963ce201-62d4-4a77-9644-fdedd822ee3e",
   "metadata": {},
   "source": [
    "A forward pass looks like this:"
   ]
  },
  {
   "cell_type": "code",
   "execution_count": 10,
   "id": "922a0be3-db85-4bc0-bbe1-cf26f0aa9f2a",
   "metadata": {},
   "outputs": [],
   "source": [
    "# X_in = mod.df_to_tensor(mod.X_in) # ligand inputs\n",
    "# X_full = mod.input_layer(X_in) # ligand inputs in signaling network\n",
    "# Y_full = mod.signaling_network(X_full) # signaling network weights\n",
    "# Y_hat = mod.output_layer(Y_full) # TF outputs of signaling network"
   ]
  },
  {
   "cell_type": "markdown",
   "id": "bd97f7c9-80c4-4202-be70-d08ef57f5fbc",
   "metadata": {},
   "source": [
    "### Train Model"
   ]
  },
  {
   "cell_type": "code",
   "execution_count": 11,
   "id": "40f71c0f-4571-48a0-af0c-8eb29d6c09c3",
   "metadata": {},
   "outputs": [
    {
     "name": "stdout",
     "output_type": "stream",
     "text": [
      "i=0, l=0.27186, s=0.775, r=0.00020, v=0\n",
      "i=250, l=0.04416, s=0.571, r=0.00046, v=1\n",
      "i=500, l=0.02875, s=0.777, r=0.00110, v=0\n",
      "i=750, l=0.02331, s=0.768, r=0.00174, v=0\n",
      "i=1000, l=0.01541, s=0.788, r=0.00200, v=0\n",
      "i=1250, l=0.01102, s=0.754, r=0.00198, v=0\n",
      "i=1500, l=0.00911, s=0.751, r=0.00191, v=0\n",
      "i=1750, l=0.00905, s=0.763, r=0.00181, v=2\n",
      "i=2000, l=0.00640, s=0.797, r=0.00167, v=1\n",
      "i=2250, l=0.00821, s=0.820, r=0.00150, v=0\n",
      "i=2500, l=0.00622, s=0.828, r=0.00131, v=0\n",
      "i=2750, l=0.00506, s=0.809, r=0.00110, v=0\n",
      "i=3000, l=0.00477, s=0.831, r=0.00090, v=0\n",
      "i=3250, l=0.00417, s=0.844, r=0.00069, v=1\n",
      "i=3500, l=0.00372, s=0.853, r=0.00050, v=0\n",
      "i=3750, l=0.00357, s=0.849, r=0.00033, v=1\n",
      "i=4000, l=0.00410, s=0.857, r=0.00019, v=1\n",
      "i=4250, l=0.00398, s=0.872, r=0.00009, v=0\n",
      "i=4500, l=0.00323, s=0.874, r=0.00002, v=0\n",
      "i=4750, l=0.00369, s=0.873, r=0.00000, v=0\n",
      "Training ran in: 28 min 17.74 sec\n"
     ]
    }
   ],
   "source": [
    "# model setup\n",
    "mod.input_layer.weights.requires_grad = False # don't learn scaling factors for the ligand input concentrations\n",
    "mod.signaling_network.prescale_weights(target_radius = target_spectral_radius) # spectral radius\n",
    "\n",
    "# loss and optimizer\n",
    "loss_fn = torch.nn.MSELoss(reduction='mean')\n",
    "optimizer = torch.optim.Adam\n",
    "\n",
    "# training loop\n",
    "res = train_signaling_model(mod, optimizer, loss_fn,\n",
    "                            reset_epoch = 200,\n",
    "                            hyper_params = hyper_params,\n",
    "                            train_split_frac = {'train': 0.8, 'test': 0.2, 'validation': None},\n",
    "                            train_seed = seed,\n",
    "                            verbose = True)\n",
    "mod, cur_loss, cur_eig, mean_loss, stats, X_train, X_test, X_val, y_train, y_test, y_val = res\n",
    "\n",
    "# store results\n",
    "io.write_pickled_object(stats, os.path.join(data_path, 'training_stats.pickle'))\n",
    "torch.save(obj=mod.state_dict(), f=os.path.join(data_path, 'mac_state_dict.pth'))"
   ]
  },
  {
   "cell_type": "markdown",
   "id": "17950565-02f0-4007-8858-0ba104bbcd55",
   "metadata": {},
   "source": [
    "## Predict using the model:"
   ]
  },
  {
   "cell_type": "code",
   "execution_count": 12,
   "id": "ad5e1114-ca09-4eed-a404-fd4daa264a3e",
   "metadata": {},
   "outputs": [],
   "source": [
    "mod.load_state_dict(torch.load(os.path.join(data_path, 'mac_state_dict.pth')))\n",
    "stats = io.read_pickled_object(os.path.join(data_path, 'training_stats.pickle'))"
   ]
  },
  {
   "cell_type": "code",
   "execution_count": 13,
   "id": "446e4358-13d8-48ea-94ee-cc35e44e404a",
   "metadata": {},
   "outputs": [],
   "source": [
    "mod.eval()\n",
    "Y_hat, Y_full = mod(X_test)"
   ]
  },
  {
   "cell_type": "markdown",
   "id": "bd2bc1b3-50e3-4915-a7b6-7fa27acbcb24",
   "metadata": {},
   "source": [
    "## Visualize"
   ]
  },
  {
   "cell_type": "markdown",
   "id": "03e13958-3e8f-4f44-9053-2a4ab17d1448",
   "metadata": {},
   "source": [
    "Let's see how the various stats performed across training:"
   ]
  },
  {
   "cell_type": "code",
   "execution_count": 14,
   "id": "1b61d56c-e85c-4558-a721-454d9e4fd487",
   "metadata": {},
   "outputs": [
    {
     "data": {
      "image/png": "[encoded data removed]",
      "text/plain": [
       "<Figure size 500x300 with 1 Axes>"
      ]
     },
     "execution_count": 14,
     "metadata": {},
     "output_type": "execute_result"
    }
   ],
   "source": [
    "loss_smooth = utils.get_moving_average(values = stats['loss_mean'], n_steps = 5)\n",
    "loss_sigma_smooth = utils.get_moving_average(values = stats['loss_sigma'], n_steps = 10)\n",
    "epochs = np.array(range(stats['loss_mean'].shape[0]))\n",
    "\n",
    "p1A = plotting.shade_plot(X = epochs, Y = loss_smooth, sigma = loss_sigma_smooth, x_label = 'Epoch', y_label = 'Loss')\n",
    "p1A += p9.scale_y_log10()\n",
    "p1A += p9.geom_hline(yintercept = mean_loss.item(), linetype=\"dashed\", color=\"black\")\n",
    "p1A.draw()"
   ]
  },
  {
   "cell_type": "markdown",
   "id": "ee8a15fc-5982-47fe-89ca-8c4e08e3a4fe",
   "metadata": {},
   "source": [
    "As well as how the learning rate was adjusted across training:"
   ]
  },
  {
   "cell_type": "code",
   "execution_count": 15,
   "id": "d9da1978-3600-40ef-8e80-e220ebd1948b",
   "metadata": {},
   "outputs": [
    {
     "data": {
      "image/png": "[encoded data removed]",
      "text/plain": [
       "<Figure size 500x300 with 1 Axes>"
      ]
     },
     "execution_count": 15,
     "metadata": {},
     "output_type": "execute_result"
    }
   ],
   "source": [
    "viz_df = pd.DataFrame(data = {'Epoch': epochs, 'lr': stats['learning_rate']})\n",
    "width, height = 5, 3\n",
    "p1B = (\n",
    "    p9.ggplot(viz_df, p9.aes(x='Epoch', y = 'lr')) +\n",
    "    p9.geom_line(color = '#1E90FF') +\n",
    "    p9.theme_bw() + \n",
    "    p9.theme(figure_size=(width, height)) +\n",
    "    p9.ylab('Learning Rate')\n",
    ")\n",
    "p1B.draw()"
   ]
  },
  {
   "cell_type": "markdown",
   "id": "3fc7c40b-aa89-4e1f-8588-635aa3e2cea6",
   "metadata": {},
   "source": [
    "As well as the spectral radius:"
   ]
  },
  {
   "cell_type": "code",
   "execution_count": 16,
   "id": "a0876c07-2b11-496c-a6db-8753575e7667",
   "metadata": {},
   "outputs": [
    {
     "data": {
      "image/png": "[encoded data removed]",
      "text/plain": [
       "<Figure size 500x300 with 1 Axes>"
      ]
     },
     "execution_count": 16,
     "metadata": {},
     "output_type": "execute_result"
    }
   ],
   "source": [
    "eig_smooth = utils.get_moving_average(stats['eig_mean'], 5)\n",
    "eig_sigma_smooth = utils.get_moving_average(stats['eig_sigma'], 5)\n",
    "\n",
    "p1C = plotting.shade_plot(X = epochs, Y = eig_smooth, sigma = eig_sigma_smooth, x_label = 'Epoch', y_label = 'Spectral Radius')\n",
    "p1C += p9.geom_hline(yintercept = mod.signaling_network.training_params['spectral_target'], linetype=\"dashed\", color=\"black\")\n",
    "p1C += p9.geom_hline(yintercept = 1, color=\"black\")\n",
    "p1C.draw()"
   ]
  },
  {
   "cell_type": "markdown",
   "id": "ba37bfd0-de4b-48b7-b0ed-f63e2aee768d",
   "metadata": {},
   "source": [
    "Next, let's see what the correlation between the predicted and actual transcription factor is:"
   ]
  },
  {
   "cell_type": "code",
   "execution_count": 17,
   "id": "0906f79b-e8d2-4e56-b5c5-bc3811981ca5",
   "metadata": {},
   "outputs": [
    {
     "data": {
      "image/png": "[encoded data removed]",
      "text/plain": [
       "<Figure size 300x300 with 1 Axes>"
      ]
     },
     "execution_count": 17,
     "metadata": {},
     "output_type": "execute_result"
    }
   ],
   "source": [
    "y_pred = Y_hat.detach().flatten().cpu().numpy()\n",
    "y_actual = y_test.detach().flatten().cpu().numpy()\n",
    "\n",
    "pr, _ = pearsonr(y_pred, y_actual)\n",
    "\n",
    "viz_df = pd.DataFrame(data = {'Predicted': y_pred, 'Actual': y_actual})\n",
    "width, height = 3, 3\n",
    "p2 = (\n",
    "    p9.ggplot() +\n",
    "    p9.geom_point(data = viz_df, mapping = p9.aes(x='Predicted', y = 'Actual'), color = '#1E90FF') +\n",
    "    p9.geom_line(data = pd.DataFrame(data = {'x': [0,1], 'y': [0, 1]}), mapping = p9.aes(x='x', y = 'y'), color = 'black') +\n",
    "    p9.theme_bw() + \n",
    "    p9.theme(figure_size=(width, height)) +\n",
    "    p9.annotate(geom = 'text', x=0.25, y = 0.95, label = 'Pearson r: {:.2f}'.format(pr), size = 10)\n",
    ")\n",
    "p2.draw()"
   ]
  },
  {
   "cell_type": "markdown",
   "id": "63f83ae5-d1e7-4b36-b8f4-2cbc239b85a4",
   "metadata": {},
   "source": [
    "Finally, let's see how our prediction error compares to error of the prediction relative to a control predicted on an input of no ligands. "
   ]
  },
  {
   "cell_type": "code",
   "execution_count": 18,
   "id": "207bcbe2-6488-4d30-ae1e-6a9a8fc58cc0",
   "metadata": {},
   "outputs": [
    {
     "data": {
      "image/png": "[encoded data removed]",
      "text/plain": [
       "<Figure size 300x300 with 1 Axes>"
      ]
     },
     "execution_count": 18,
     "metadata": {},
     "output_type": "execute_result"
    }
   ],
   "source": [
    "X_ctrl = torch.zeros((1, X_test.shape[1]), dtype=mod.dtype, device = mod.device)\n",
    "Y_ctrl, _ = mod(X_ctrl)\n",
    "signal_distance = torch.sum(torch.abs(Y_hat - Y_ctrl),dim=1).detach().cpu().numpy().flatten()\n",
    "fit_distance = torch.sum(torch.square(Y_hat-y_test),dim=1).detach().cpu().numpy().flatten()\n",
    "\n",
    "\n",
    "viz_df = pd.DataFrame(data = {'Control Distance': signal_distance, 'Fit Distance': fit_distance})\n",
    "width, height = 3, 3\n",
    "p3 = (\n",
    "    p9.ggplot() +\n",
    "    p9.geom_point(data = viz_df, mapping = p9.aes(x='Control Distance', y = 'Fit Distance'), color = '#1E90FF') +\n",
    "    p9.theme_bw() + \n",
    "    p9.theme(figure_size=(width, height)) \n",
    ")\n",
    "p3.draw()"
   ]
  }
 ],
 "metadata": {
  "kernelspec": {
   "display_name": "Python [conda env:scLEMBAS]",
   "language": "python",
   "name": "conda-env-scLEMBAS-py"
  },
  "language_info": {
   "codemirror_mode": {
    "name": "ipython",
    "version": 3
   },
   "file_extension": ".py",
   "mimetype": "text/x-python",
   "name": "python",
   "nbconvert_exporter": "python",
   "pygments_lexer": "ipython3",
   "version": "3.11.7"
  }
 },
 "nbformat": 4,
 "nbformat_minor": 5
}
